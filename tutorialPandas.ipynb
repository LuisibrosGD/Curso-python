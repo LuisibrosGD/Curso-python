{
 "cells": [
  {
   "cell_type": "markdown",
   "metadata": {},
   "source": [
    "# Bienvenido al tutorial de Pandas en Python"
   ]
  },
  {
   "cell_type": "markdown",
   "metadata": {},
   "source": [
    "## Primero importamos la libreria Pandas"
   ]
  },
  {
   "cell_type": "markdown",
   "metadata": {},
   "source": [
    "Pero antes de eso debes tener instalado Pandas, si no esto te va a dar error.\n",
    "Coloca: pip install pandas\n",
    "en tu terminal"
   ]
  },
  {
   "cell_type": "code",
   "execution_count": 16,
   "metadata": {},
   "outputs": [],
   "source": [
    "#Podemos colocarle un nombre a pandas para que sea más fácil de llamar\n",
    "import pandas as pd"
   ]
  },
  {
   "cell_type": "markdown",
   "metadata": {},
   "source": [
    "## Ahora carguemos un archivo excel con datos de estudiantes randoms generado por chatGPT"
   ]
  },
  {
   "cell_type": "code",
   "execution_count": 73,
   "metadata": {},
   "outputs": [
    {
     "name": "stdout",
     "output_type": "stream",
     "text": [
      "      id  Nombres  Matematicas  Comunicación  Promedio\n",
      "0   2249    María          NaN          18.0      18.0\n",
      "1   8690     Luis         19.0          11.0      15.0\n",
      "2   4362    Jorge         18.0          17.0      17.5\n",
      "3   8426  Alberto         13.0           NaN      13.0\n",
      "4   4256     Luis         20.0          12.0      16.0\n",
      "5   4008    María         12.0          16.0      14.0\n",
      "6   2817  Alberto         14.0           8.0      11.0\n",
      "7   3018    Jorge         20.0           3.0      11.5\n",
      "8   4326    María         15.0           7.0      11.0\n",
      "9   3186      Ana          4.0           1.0       2.5\n",
      "10  5670     Luis          1.0          18.0       9.5\n",
      "11  4212      Ana         15.0          18.0      16.5\n",
      "12  8337    Laura         17.0          17.0      17.0\n",
      "13  1119    Pedro         17.0          17.0      17.0\n",
      "14  8680     Luis         14.0          16.0      15.0\n",
      "15  5939     Luis         15.0          15.0      15.0\n",
      "16  1534  Alberto         10.0          17.0      13.5\n",
      "17  4749   Carlos          6.0          12.0       9.0\n",
      "18  4844    Lucía         15.0          10.0      12.5\n",
      "19  2409  Alberto          1.0          14.0       7.5\n",
      "20  6228    Jorge         12.0          18.0      15.0\n",
      "21  2922    María          2.0           8.0       5.0\n",
      "22  2715    María          5.0          10.0       7.5\n",
      "23  9550    Pedro          6.0           0.0       3.0\n",
      "24  5202    María         14.0           4.0       9.0\n",
      "25  6572    Lucía         17.0          14.0      15.5\n",
      "26  5868    María         11.0          13.0      12.0\n",
      "27  3353     Luis          9.0          20.0      14.5\n",
      "28  4558    Lucía         16.0          11.0      13.5\n",
      "29  9548    Pedro          2.0           4.0       3.0\n",
      "30  7047      Ana         15.0          16.0      15.5\n",
      "31  5271      Ana          9.0          10.0       9.5\n",
      "32  7654      Ana         20.0          15.0      17.5\n",
      "33  4615    Lucía         18.0           0.0       9.0\n",
      "34  5397    María         11.0           7.0       9.0\n",
      "35  2461   Carlos          2.0          11.0       6.5\n",
      "36  7660    Laura          7.0          18.0      12.5\n",
      "37  1902      Ana          8.0          20.0      14.0\n",
      "38  6429    María          9.0          15.0      12.0\n",
      "39  8511    Pedro         11.0          17.0      14.0\n",
      "40  1425    Laura         15.0           5.0      10.0\n",
      "41  3720      Ana          3.0          19.0      11.0\n",
      "42  6634  Alberto         15.0          16.0      15.5\n",
      "43  2466  Valeria         13.0          10.0      11.5\n",
      "44  2317  Valeria         13.0          13.0      13.0\n",
      "45  6346   Carlos         16.0           4.0      10.0\n",
      "46  3961     Luis         18.0           1.0       9.5\n",
      "47  6680    Laura         19.0          10.0      14.5\n",
      "48  1101      Ana         17.0          12.0      14.5\n",
      "49  4631    Laura          9.0          11.0      10.0\n"
     ]
    }
   ],
   "source": [
    "variable = pd.read_excel(\"datos_estudiantes.xlsx\")\n",
    "print(variable)\n"
   ]
  },
  {
   "cell_type": "markdown",
   "metadata": {},
   "source": [
    "#### Notese que al costado de id tenemos un identificador que pandas automaticamente genera desde el 0 hasta el maximo de filas que contiene el excel\n",
    "##### Ahora lo que haremos es asignarle ese identificador a \"id\""
   ]
  },
  {
   "cell_type": "code",
   "execution_count": 74,
   "metadata": {},
   "outputs": [
    {
     "name": "stdout",
     "output_type": "stream",
     "text": [
      "      Nombres  Matematicas  Comunicación  Promedio\n",
      "id                                                \n",
      "2249    María          NaN          18.0      18.0\n",
      "8690     Luis         19.0          11.0      15.0\n",
      "4362    Jorge         18.0          17.0      17.5\n",
      "8426  Alberto         13.0           NaN      13.0\n",
      "4256     Luis         20.0          12.0      16.0\n",
      "4008    María         12.0          16.0      14.0\n",
      "2817  Alberto         14.0           8.0      11.0\n",
      "3018    Jorge         20.0           3.0      11.5\n",
      "4326    María         15.0           7.0      11.0\n",
      "3186      Ana          4.0           1.0       2.5\n",
      "5670     Luis          1.0          18.0       9.5\n",
      "4212      Ana         15.0          18.0      16.5\n",
      "8337    Laura         17.0          17.0      17.0\n",
      "1119    Pedro         17.0          17.0      17.0\n",
      "8680     Luis         14.0          16.0      15.0\n",
      "5939     Luis         15.0          15.0      15.0\n",
      "1534  Alberto         10.0          17.0      13.5\n",
      "4749   Carlos          6.0          12.0       9.0\n",
      "4844    Lucía         15.0          10.0      12.5\n",
      "2409  Alberto          1.0          14.0       7.5\n",
      "6228    Jorge         12.0          18.0      15.0\n",
      "2922    María          2.0           8.0       5.0\n",
      "2715    María          5.0          10.0       7.5\n",
      "9550    Pedro          6.0           0.0       3.0\n",
      "5202    María         14.0           4.0       9.0\n",
      "6572    Lucía         17.0          14.0      15.5\n",
      "5868    María         11.0          13.0      12.0\n",
      "3353     Luis          9.0          20.0      14.5\n",
      "4558    Lucía         16.0          11.0      13.5\n",
      "9548    Pedro          2.0           4.0       3.0\n",
      "7047      Ana         15.0          16.0      15.5\n",
      "5271      Ana          9.0          10.0       9.5\n",
      "7654      Ana         20.0          15.0      17.5\n",
      "4615    Lucía         18.0           0.0       9.0\n",
      "5397    María         11.0           7.0       9.0\n",
      "2461   Carlos          2.0          11.0       6.5\n",
      "7660    Laura          7.0          18.0      12.5\n",
      "1902      Ana          8.0          20.0      14.0\n",
      "6429    María          9.0          15.0      12.0\n",
      "8511    Pedro         11.0          17.0      14.0\n",
      "1425    Laura         15.0           5.0      10.0\n",
      "3720      Ana          3.0          19.0      11.0\n",
      "6634  Alberto         15.0          16.0      15.5\n",
      "2466  Valeria         13.0          10.0      11.5\n",
      "2317  Valeria         13.0          13.0      13.0\n",
      "6346   Carlos         16.0           4.0      10.0\n",
      "3961     Luis         18.0           1.0       9.5\n",
      "6680    Laura         19.0          10.0      14.5\n",
      "1101      Ana         17.0          12.0      14.5\n",
      "4631    Laura          9.0          11.0      10.0\n"
     ]
    }
   ],
   "source": [
    "#\"id\" es el nombre que encontramos en el excel\n",
    "variable = pd.read_excel(\"datos_estudiantes.xlsx\", index_col=\"id\")\n",
    "print(variable)"
   ]
  },
  {
   "cell_type": "markdown",
   "metadata": {},
   "source": [
    "## Mostrar las primeras 5 filas"
   ]
  },
  {
   "cell_type": "code",
   "execution_count": 25,
   "metadata": {},
   "outputs": [
    {
     "name": "stdout",
     "output_type": "stream",
     "text": [
      "     id  Nombres  Matematicas  Comunicación  Promedio\n",
      "0  2249    María            0            18        18\n",
      "1  8690     Luis           19            11        30\n",
      "2  4362    Jorge           18            17        35\n",
      "3  8426  Alberto           13            14        27\n",
      "4  4256     Luis           20            12        32\n"
     ]
    }
   ],
   "source": [
    "print(variable.head()) #por defecto es 5 pero podemos colocarle un número dentro del parentesis para especificar"
   ]
  },
  {
   "cell_type": "code",
   "execution_count": 26,
   "metadata": {},
   "outputs": [
    {
     "name": "stdout",
     "output_type": "stream",
     "text": [
      "     id Nombres  Matematicas  Comunicación  Promedio\n",
      "0  2249   María            0            18        18\n",
      "1  8690    Luis           19            11        30\n",
      "2  4362   Jorge           18            17        35\n"
     ]
    }
   ],
   "source": [
    "print(variable.head(3))"
   ]
  },
  {
   "cell_type": "markdown",
   "metadata": {},
   "source": [
    "## Mostrar las ultimas 5 filas"
   ]
  },
  {
   "cell_type": "code",
   "execution_count": 27,
   "metadata": {},
   "outputs": [
    {
     "name": "stdout",
     "output_type": "stream",
     "text": [
      "      id Nombres  Matematicas  Comunicación  Promedio\n",
      "45  6346  Carlos           16             4        20\n",
      "46  3961    Luis           18             1        19\n",
      "47  6680   Laura           19            10        29\n",
      "48  1101     Ana           17            12        29\n",
      "49  4631   Laura            9            11        20\n"
     ]
    }
   ],
   "source": [
    "print(variable.tail()) #por defecto es 5 pero podemos colocarle un número dentro del parentesis para especificar"
   ]
  },
  {
   "cell_type": "code",
   "execution_count": 28,
   "metadata": {},
   "outputs": [
    {
     "name": "stdout",
     "output_type": "stream",
     "text": [
      "      id Nombres  Matematicas  Comunicación  Promedio\n",
      "48  1101     Ana           17            12        29\n",
      "49  4631   Laura            9            11        20\n"
     ]
    }
   ],
   "source": [
    "print(variable.tail(2))"
   ]
  },
  {
   "cell_type": "markdown",
   "metadata": {},
   "source": [
    "## Mostrar estadisticas descriptivas por columna"
   ]
  },
  {
   "cell_type": "code",
   "execution_count": 29,
   "metadata": {},
   "outputs": [
    {
     "name": "stdout",
     "output_type": "stream",
     "text": [
      "                id  Matematicas  Comunicación   Promedio\n",
      "count    50.000000    50.000000     50.000000  50.000000\n",
      "mean   4911.500000    11.760000     11.860000  23.620000\n",
      "std    2333.819487     5.787248      5.613431   7.602067\n",
      "min    1101.000000     0.000000      0.000000   5.000000\n",
      "25%    2946.000000     8.250000      8.500000  19.000000\n",
      "50%    4623.000000    13.000000     12.500000  24.500000\n",
      "75%    6536.250000    16.000000     16.750000  29.750000\n",
      "max    9550.000000    20.000000     20.000000  35.000000\n"
     ]
    }
   ],
   "source": [
    "print(variable.describe()) #nos da un resumen de los datos"
   ]
  },
  {
   "cell_type": "markdown",
   "metadata": {},
   "source": [
    "## Limpieza de datos"
   ]
  },
  {
   "cell_type": "code",
   "execution_count": 35,
   "metadata": {},
   "outputs": [
    {
     "name": "stdout",
     "output_type": "stream",
     "text": [
      "     id  Nombres  Matematicas  Comunicación  Promedio\n",
      "1  8690     Luis         19.0          11.0        30\n",
      "2  4362    Jorge         18.0          17.0        35\n",
      "4  4256     Luis         20.0          12.0        32\n",
      "5  4008    María         12.0          16.0        28\n",
      "6  2817  Alberto         14.0           8.0        22\n"
     ]
    }
   ],
   "source": [
    "nuevoExcel = variable.dropna() #elimina las filas que tengan valores nulos (ver en el excel)\n",
    "print(nuevoExcel.head(5))"
   ]
  },
  {
   "cell_type": "markdown",
   "metadata": {},
   "source": [
    "### Llenar los espacios nulos con un valor en especifico"
   ]
  },
  {
   "cell_type": "code",
   "execution_count": 36,
   "metadata": {},
   "outputs": [
    {
     "name": "stdout",
     "output_type": "stream",
     "text": [
      "     id  Nombres  Matematicas  Comunicación  Promedio\n",
      "0  2249    María          0.0          18.0        18\n",
      "1  8690     Luis         19.0          11.0        30\n",
      "2  4362    Jorge         18.0          17.0        35\n",
      "3  8426  Alberto         13.0           0.0        13\n",
      "4  4256     Luis         20.0          12.0        32\n"
     ]
    }
   ],
   "source": [
    "nuevoExcel = variable.fillna(0)\n",
    "print(nuevoExcel.head())"
   ]
  },
  {
   "cell_type": "markdown",
   "metadata": {},
   "source": [
    "### LLenar los espacios nulos en una columna especifica con cierto valor"
   ]
  },
  {
   "cell_type": "code",
   "execution_count": 40,
   "metadata": {},
   "outputs": [
    {
     "name": "stdout",
     "output_type": "stream",
     "text": [
      "     id  Nombres  Matematicas  Comunicación  Promedio\n",
      "0  2249    María          5.0          18.0        18\n",
      "1  8690     Luis         19.0          11.0        30\n",
      "2  4362    Jorge         18.0          17.0        35\n",
      "3  8426  Alberto         13.0           3.0        13\n",
      "4  4256     Luis         20.0          12.0        32\n"
     ]
    }
   ],
   "source": [
    "nuevoExcel = variable.fillna({\"Matematicas\": 5, \"Comunicación\": 3})\n",
    "print(nuevoExcel.head())"
   ]
  },
  {
   "cell_type": "markdown",
   "metadata": {},
   "source": [
    "## Filtrado de datos"
   ]
  },
  {
   "cell_type": "markdown",
   "metadata": {},
   "source": [
    "### Filtrado 1 sola columna"
   ]
  },
  {
   "cell_type": "code",
   "execution_count": 44,
   "metadata": {},
   "outputs": [
    {
     "name": "stdout",
     "output_type": "stream",
     "text": [
      "id\n",
      "2249      María\n",
      "8690       Luis\n",
      "4362      Jorge\n",
      "8426    Alberto\n",
      "4256       Luis\n",
      "4008      María\n",
      "2817    Alberto\n",
      "3018      Jorge\n",
      "4326      María\n",
      "3186        Ana\n",
      "5670       Luis\n",
      "4212        Ana\n",
      "8337      Laura\n",
      "1119      Pedro\n",
      "8680       Luis\n",
      "5939       Luis\n",
      "1534    Alberto\n",
      "4749     Carlos\n",
      "4844      Lucía\n",
      "2409    Alberto\n",
      "6228      Jorge\n",
      "2922      María\n",
      "2715      María\n",
      "9550      Pedro\n",
      "5202      María\n",
      "6572      Lucía\n",
      "5868      María\n",
      "3353       Luis\n",
      "4558      Lucía\n",
      "9548      Pedro\n",
      "7047        Ana\n",
      "5271        Ana\n",
      "7654        Ana\n",
      "4615      Lucía\n",
      "5397      María\n",
      "2461     Carlos\n",
      "7660      Laura\n",
      "1902        Ana\n",
      "6429      María\n",
      "8511      Pedro\n",
      "1425      Laura\n",
      "3720        Ana\n",
      "6634    Alberto\n",
      "2466    Valeria\n",
      "2317    Valeria\n",
      "6346     Carlos\n",
      "3961       Luis\n",
      "6680      Laura\n",
      "1101        Ana\n",
      "4631      Laura\n",
      "Name: Nombres, dtype: object\n"
     ]
    }
   ],
   "source": [
    "print(variable[\"Nombres\"]) #nos muestra solo la columna de nombres"
   ]
  },
  {
   "cell_type": "code",
   "execution_count": 45,
   "metadata": {},
   "outputs": [
    {
     "name": "stdout",
     "output_type": "stream",
     "text": [
      "id\n",
      "2249    18\n",
      "8690    30\n",
      "4362    35\n",
      "8426    13\n",
      "4256    32\n",
      "4008    28\n",
      "2817    22\n",
      "3018    23\n",
      "4326    22\n",
      "3186     5\n",
      "5670    19\n",
      "4212    33\n",
      "8337    34\n",
      "1119    34\n",
      "8680    30\n",
      "5939    30\n",
      "1534    27\n",
      "4749    18\n",
      "4844    25\n",
      "2409    15\n",
      "6228    30\n",
      "2922    10\n",
      "2715    15\n",
      "9550     6\n",
      "5202    18\n",
      "6572    31\n",
      "5868    24\n",
      "3353    29\n",
      "4558    27\n",
      "9548     6\n",
      "7047    31\n",
      "5271    19\n",
      "7654    35\n",
      "4615    18\n",
      "5397    18\n",
      "2461    13\n",
      "7660    25\n",
      "1902    28\n",
      "6429    24\n",
      "8511    28\n",
      "1425    20\n",
      "3720    22\n",
      "6634    31\n",
      "2466    23\n",
      "2317    26\n",
      "6346    20\n",
      "3961    19\n",
      "6680    29\n",
      "1101    29\n",
      "4631    20\n",
      "Name: Promedio, dtype: int64\n"
     ]
    }
   ],
   "source": [
    "print(variable[\"Promedio\"])"
   ]
  },
  {
   "cell_type": "markdown",
   "metadata": {},
   "source": [
    "### 2 a mas columnas"
   ]
  },
  {
   "cell_type": "code",
   "execution_count": 49,
   "metadata": {},
   "outputs": [
    {
     "name": "stdout",
     "output_type": "stream",
     "text": [
      "      Nombres  Promedio\n",
      "id                     \n",
      "2249    María        18\n",
      "8690     Luis        30\n",
      "4362    Jorge        35\n",
      "8426  Alberto        13\n",
      "4256     Luis        32\n",
      "4008    María        28\n",
      "2817  Alberto        22\n",
      "3018    Jorge        23\n",
      "4326    María        22\n",
      "3186      Ana         5\n",
      "5670     Luis        19\n",
      "4212      Ana        33\n",
      "8337    Laura        34\n",
      "1119    Pedro        34\n",
      "8680     Luis        30\n",
      "5939     Luis        30\n",
      "1534  Alberto        27\n",
      "4749   Carlos        18\n",
      "4844    Lucía        25\n",
      "2409  Alberto        15\n",
      "6228    Jorge        30\n",
      "2922    María        10\n",
      "2715    María        15\n",
      "9550    Pedro         6\n",
      "5202    María        18\n",
      "6572    Lucía        31\n",
      "5868    María        24\n",
      "3353     Luis        29\n",
      "4558    Lucía        27\n",
      "9548    Pedro         6\n",
      "7047      Ana        31\n",
      "5271      Ana        19\n",
      "7654      Ana        35\n",
      "4615    Lucía        18\n",
      "5397    María        18\n",
      "2461   Carlos        13\n",
      "7660    Laura        25\n",
      "1902      Ana        28\n",
      "6429    María        24\n",
      "8511    Pedro        28\n",
      "1425    Laura        20\n",
      "3720      Ana        22\n",
      "6634  Alberto        31\n",
      "2466  Valeria        23\n",
      "2317  Valeria        26\n",
      "6346   Carlos        20\n",
      "3961     Luis        19\n",
      "6680    Laura        29\n",
      "1101      Ana        29\n",
      "4631    Laura        20\n"
     ]
    }
   ],
   "source": [
    "#Usaremos 2 corchetes\n",
    "print(variable[[\"Nombres\", \"Promedio\"]])"
   ]
  },
  {
   "cell_type": "markdown",
   "metadata": {},
   "source": [
    "### Por filas y etiquetas"
   ]
  },
  {
   "cell_type": "markdown",
   "metadata": {},
   "source": [
    "#### Usamos iloc para filtrar por los *i*ndices\n"
   ]
  },
  {
   "cell_type": "code",
   "execution_count": 51,
   "metadata": {},
   "outputs": [
    {
     "name": "stdout",
     "output_type": "stream",
     "text": [
      "Nombres         María\n",
      "Matematicas       NaN\n",
      "Comunicación     18.0\n",
      "Promedio           18\n",
      "Name: 2249, dtype: object\n",
      "\n",
      "Nombres         Luis\n",
      "Matematicas      1.0\n",
      "Comunicación    18.0\n",
      "Promedio          19\n",
      "Name: 5670, dtype: object\n"
     ]
    }
   ],
   "source": [
    "#Filtrado por indices\n",
    "print(variable.iloc[0]) #Primera fila\n",
    "print()\n",
    "print(variable.iloc[10]) #Novena fila\n"
   ]
  },
  {
   "cell_type": "code",
   "execution_count": 52,
   "metadata": {},
   "outputs": [
    {
     "name": "stdout",
     "output_type": "stream",
     "text": [
      "      Nombres  Matematicas  Comunicación  Promedio\n",
      "id                                                \n",
      "2249    María          NaN          18.0        18\n",
      "8690     Luis         19.0          11.0        30\n",
      "4362    Jorge         18.0          17.0        35\n",
      "8426  Alberto         13.0           NaN        13\n",
      "4256     Luis         20.0          12.0        32\n"
     ]
    }
   ],
   "source": [
    "#Filtrado por rango\n",
    "print(variable.iloc[0:5]) #Filtramos desde la primera fila hasta la cuarta"
   ]
  },
  {
   "cell_type": "code",
   "execution_count": 53,
   "metadata": {},
   "outputs": [
    {
     "name": "stdout",
     "output_type": "stream",
     "text": [
      "     Nombres  Matematicas  Comunicación  Promedio\n",
      "id                                               \n",
      "2249   María          NaN          18.0        18\n",
      "6228   Jorge         12.0          18.0        30\n",
      "2461  Carlos          2.0          11.0        13\n"
     ]
    }
   ],
   "source": [
    "#Filtrado por indices personalizados\n",
    "print(variable.iloc[[0,20,35]]) #Fila 1, 19, 34"
   ]
  },
  {
   "cell_type": "markdown",
   "metadata": {},
   "source": [
    "#### Usamos loc para filtrar por el identificador que hemos asignado"
   ]
  },
  {
   "cell_type": "code",
   "execution_count": 57,
   "metadata": {},
   "outputs": [
    {
     "name": "stdout",
     "output_type": "stream",
     "text": [
      "      Nombres  Matematicas  Comunicación  Promedio\n",
      "id                                                \n",
      "3720      Ana          3.0          19.0        22\n",
      "2466  Valeria         13.0          10.0        23\n"
     ]
    }
   ],
   "source": [
    "print(variable.loc[[3720, 2466]]) #Filtramos por el id\n"
   ]
  },
  {
   "cell_type": "markdown",
   "metadata": {},
   "source": [
    "### Filtrado de filas y columnas"
   ]
  },
  {
   "cell_type": "code",
   "execution_count": 65,
   "metadata": {},
   "outputs": [
    {
     "name": "stdout",
     "output_type": "stream",
     "text": [
      "      Nombres  Promedio\n",
      "id                     \n",
      "3720      Ana        22\n",
      "2466  Valeria        23\n"
     ]
    }
   ],
   "source": [
    "#Se usa el loc y 2 corchetes separados que seran la filas y la columnas\n",
    "print(variable.loc[[3720,2466],[\"Nombres\", \"Promedio\"]])"
   ]
  },
  {
   "cell_type": "markdown",
   "metadata": {},
   "source": [
    "### Filtrado por condiciones"
   ]
  },
  {
   "cell_type": "code",
   "execution_count": 76,
   "metadata": {},
   "outputs": [
    {
     "name": "stdout",
     "output_type": "stream",
     "text": [
      "      Nombres  Matematicas  Comunicación  Promedio\n",
      "id                                                \n",
      "2249    María          NaN          18.0      18.0\n",
      "8690     Luis         19.0          11.0      15.0\n",
      "4362    Jorge         18.0          17.0      17.5\n",
      "8426  Alberto         13.0           NaN      13.0\n",
      "4256     Luis         20.0          12.0      16.0\n",
      "4008    María         12.0          16.0      14.0\n",
      "3018    Jorge         20.0           3.0      11.5\n",
      "4212      Ana         15.0          18.0      16.5\n",
      "8337    Laura         17.0          17.0      17.0\n",
      "1119    Pedro         17.0          17.0      17.0\n"
     ]
    }
   ],
   "source": [
    "print(variable[variable[\"Promedio\"]>11].head(10)) #Filtramos por promedio mayor a 11"
   ]
  },
  {
   "cell_type": "code",
   "execution_count": 75,
   "metadata": {},
   "outputs": [
    {
     "name": "stdout",
     "output_type": "stream",
     "text": [
      "     Nombres  Matematicas  Comunicación  Promedio\n",
      "id                                               \n",
      "4362   Jorge         18.0          17.0      17.5\n",
      "8337   Laura         17.0          17.0      17.0\n",
      "1119   Pedro         17.0          17.0      17.0\n"
     ]
    }
   ],
   "source": [
    "# print(variable[variable[\"Comunicación\",\"Matematicas\"]>18]) -> esto no se puede realizar\n",
    "# Nota: and = &, or = |, not = ~\n",
    "print(variable[(variable[\"Comunicación\"]>16) & (variable[\"Matematicas\"]>16)]) #Filtramos por notas mayores a 18"
   ]
  },
  {
   "cell_type": "markdown",
   "metadata": {},
   "source": [
    "#### Filtrado por condición de texto"
   ]
  },
  {
   "cell_type": "code",
   "execution_count": 77,
   "metadata": {},
   "outputs": [
    {
     "name": "stdout",
     "output_type": "stream",
     "text": [
      "     Nombres  Matematicas  Comunicación  Promedio\n",
      "id                                               \n",
      "2249   María          NaN          18.0      18.0\n",
      "4008   María         12.0          16.0      14.0\n",
      "4326   María         15.0           7.0      11.0\n",
      "2922   María          2.0           8.0       5.0\n",
      "2715   María          5.0          10.0       7.5\n",
      "5202   María         14.0           4.0       9.0\n",
      "5868   María         11.0          13.0      12.0\n",
      "5397   María         11.0           7.0       9.0\n",
      "6429   María          9.0          15.0      12.0\n"
     ]
    }
   ],
   "source": [
    "print(variable[variable[\"Nombres\"].str.contains(\"Mar\")]) #Filtramos en la columna \"Nombres\" las filas que contengan \"Mar\""
   ]
  },
  {
   "cell_type": "markdown",
   "metadata": {},
   "source": []
  },
  {
   "cell_type": "markdown",
   "metadata": {},
   "source": [
    "## Transformación de datos"
   ]
  },
  {
   "cell_type": "markdown",
   "metadata": {},
   "source": [
    "Vamos a usar los datos del excel para crear una nueva columna que será la nota de ciencias\n",
    "Usando solo la columna de \"Matematicas\""
   ]
  },
  {
   "cell_type": "code",
   "execution_count": 96,
   "metadata": {},
   "outputs": [
    {
     "name": "stdout",
     "output_type": "stream",
     "text": [
      "      Nombres  Matematicas  Comunicación  Promedio  Ciencias  Promedio Actual\n",
      "id                                                                           \n",
      "2249    María          NaN          18.0      18.0       NaN              NaN\n",
      "8690     Luis         19.0          11.0      15.0      19.0        16.333333\n",
      "4362    Jorge         18.0          17.0      17.5      18.0        17.666667\n",
      "8426  Alberto         13.0           NaN      13.0      13.0              NaN\n",
      "4256     Luis         20.0          12.0      16.0      20.0        17.333333\n",
      "4008    María         12.0          16.0      14.0      12.0        13.333333\n",
      "2817  Alberto         14.0           8.0      11.0      14.0        12.000000\n",
      "3018    Jorge         20.0           3.0      11.5      20.0        14.333333\n",
      "4326    María         15.0           7.0      11.0      15.0        12.333333\n",
      "3186      Ana          4.0           1.0       2.5       5.0         3.333333\n"
     ]
    }
   ],
   "source": [
    "def calcularNotaCiencias(notaMatematicas):\n",
    "    if notaMatematicas < 10:\n",
    "        nota_ciencias = notaMatematicas + 1\n",
    "    else:\n",
    "        nota_ciencias = notaMatematicas\n",
    "    return nota_ciencias\n",
    "\n",
    "variable[\"Ciencias\"] = variable[\"Matematicas\"].apply(calcularNotaCiencias)\n",
    "print(variable.head(10))"
   ]
  },
  {
   "cell_type": "markdown",
   "metadata": {},
   "source": [
    "Ahora trabajaremos con otras filas para crear una nueva columna"
   ]
  },
  {
   "cell_type": "code",
   "execution_count": 99,
   "metadata": {},
   "outputs": [],
   "source": [
    "nuevaVariable = variable.fillna(0) # Esto llenará los valores nulos con 0"
   ]
  },
  {
   "cell_type": "code",
   "execution_count": 102,
   "metadata": {},
   "outputs": [
    {
     "name": "stdout",
     "output_type": "stream",
     "text": [
      "      Nombres  Matematicas  Comunicación  Promedio  Ciencias  Promedio Actual\n",
      "id                                                                           \n",
      "2249    María          0.0          18.0      18.0       0.0         6.000000\n",
      "8690     Luis         19.0          11.0      15.0      19.0        16.333333\n",
      "4362    Jorge         18.0          17.0      17.5      18.0        17.666667\n",
      "8426  Alberto         13.0           0.0      13.0      13.0         8.666667\n",
      "4256     Luis         20.0          12.0      16.0      20.0        17.333333\n",
      "4008    María         12.0          16.0      14.0      12.0        13.333333\n",
      "2817  Alberto         14.0           8.0      11.0      14.0        12.000000\n",
      "3018    Jorge         20.0           3.0      11.5      20.0        14.333333\n",
      "4326    María         15.0           7.0      11.0      15.0        12.333333\n",
      "3186      Ana          4.0           1.0       2.5       5.0         3.333333\n"
     ]
    }
   ],
   "source": [
    "#Aplicar una función a una fila\n",
    "def nuevoPromedio(fila):\n",
    "    suma = fila[\"Matematicas\"] + fila[\"Comunicación\"] + fila[\"Ciencias\"]\n",
    "    promedio = suma / 3\n",
    "    return promedio\n",
    "\n",
    "\n",
    "\n",
    "nuevaVariable[\"Promedio Actual\"] = nuevaVariable.apply(nuevoPromedio, axis=1)  #axis=1 para que recorra las filas uno por uno\n",
    "#Esto significa que se recorrerá fila por fila y se aplicará la función a cada fila de la tabla de datos.\n",
    "print(nuevaVariable.head(10))"
   ]
  },
  {
   "cell_type": "markdown",
   "metadata": {},
   "source": [
    "## Agrupar datos"
   ]
  },
  {
   "cell_type": "markdown",
   "metadata": {},
   "source": [
    "#### Para todas las columnas si se elige una que se agrupará"
   ]
  },
  {
   "cell_type": "code",
   "execution_count": 106,
   "metadata": {},
   "outputs": [
    {
     "name": "stdout",
     "output_type": "stream",
     "text": [
      "         Matematicas  Comunicación   Promedio   Ciencias  Promedio Actual\n",
      "Nombres                                                                  \n",
      "Alberto    10.600000     13.750000  12.100000  10.800000        11.333333\n",
      "Ana        11.375000     13.875000  12.625000  11.875000        12.375000\n",
      "Carlos      8.000000      9.000000   8.500000   8.666667         8.555556\n",
      "Jorge      16.666667     12.666667  14.666667  16.666667        15.333333\n",
      "Laura      13.400000     12.200000  12.800000  13.800000        13.133333\n",
      "Lucía      16.500000      8.750000  12.625000  16.500000        13.916667\n",
      "Luis       13.714286     13.285714  13.500000  14.000000        13.666667\n",
      "María       9.875000     10.888889  10.833333  10.250000        10.041667\n",
      "Pedro       9.000000      9.500000   9.250000   9.500000         9.333333\n",
      "Valeria    13.000000     11.500000  12.250000  13.000000        12.500000\n"
     ]
    }
   ],
   "source": [
    "print(variable.groupby(\"Nombres\").mean()) #Agrupamos por nombres y sacamos el promedio de las notas"
   ]
  },
  {
   "cell_type": "markdown",
   "metadata": {},
   "source": [
    "#### Para ciertas columnas"
   ]
  },
  {
   "cell_type": "markdown",
   "metadata": {},
   "source": [
    "Esto quiere decir que a la columna nombres, hemos hecho grupos de nombres repetidos y luego aplicamos suma a las columnas _Matematicas_ y _Comunicación_, despues un promedio a la columna _Promedio_, por ultimo hallar el maximo numero a la columna _Ciencias_."
   ]
  },
  {
   "cell_type": "code",
   "execution_count": 109,
   "metadata": {},
   "outputs": [
    {
     "name": "stdout",
     "output_type": "stream",
     "text": [
      "         Matematicas  Comunicación   Promedio  Ciencias\n",
      "Nombres                                                \n",
      "Alberto         53.0          55.0  12.100000      15.0\n",
      "Ana             91.0         111.0  12.625000      20.0\n",
      "Carlos          24.0          27.0   8.500000      16.0\n",
      "Jorge           50.0          38.0  14.666667      20.0\n",
      "Laura           67.0          61.0  12.800000      19.0\n",
      "Lucía           66.0          35.0  12.625000      18.0\n",
      "Luis            96.0          93.0  13.500000      20.0\n",
      "María           79.0          98.0  10.833333      15.0\n",
      "Pedro           36.0          38.0   9.250000      17.0\n",
      "Valeria         26.0          23.0  12.250000      13.0\n"
     ]
    }
   ],
   "source": [
    "print(variable.groupby(\"Nombres\").agg({\n",
    "    \"Matematicas\":'sum',\n",
    "    \"Comunicación\":'sum',\n",
    "    \"Promedio\":'mean',\n",
    "    \"Ciencias\":'max'\n",
    "}))"
   ]
  },
  {
   "cell_type": "code",
   "execution_count": 112,
   "metadata": {},
   "outputs": [
    {
     "name": "stdout",
     "output_type": "stream",
     "text": [
      "         Matematicas  Comunicación   Promedio  Ciencias\n",
      "Nombres                                                \n",
      "Jorge           50.0          38.0  14.666667      20.0\n",
      "Luis            96.0          93.0  13.500000      20.0\n"
     ]
    }
   ],
   "source": [
    "#Guardamos el dataframe en una nueva variable\n",
    "\n",
    "varGrupo = variable.groupby(\"Nombres\").agg({\n",
    "    \"Matematicas\":'sum',\n",
    "    \"Comunicación\":'sum',\n",
    "    \"Promedio\":'mean',\n",
    "    \"Ciencias\":'max'\n",
    "})\n",
    "\n",
    "# Ahora como ejemplo apliquemos filtracion\n",
    "print(varGrupo[varGrupo[\"Promedio\"]>13])\n"
   ]
  },
  {
   "cell_type": "markdown",
   "metadata": {},
   "source": [
    "## Grafica de datos"
   ]
  },
  {
   "cell_type": "markdown",
   "metadata": {},
   "source": [
    "### Instalacion de matplotlib\n",
    "- pip install matplotlib\n",
    "- esperar\n",
    "- luego importar \"matplotlib.pyplot\" como \"plt\" que es lo mas usual"
   ]
  },
  {
   "cell_type": "code",
   "execution_count": 114,
   "metadata": {},
   "outputs": [],
   "source": [
    "import matplotlib.pyplot as plt"
   ]
  },
  {
   "cell_type": "markdown",
   "metadata": {},
   "source": [
    "### Grafico de lineas"
   ]
  },
  {
   "cell_type": "markdown",
   "metadata": {},
   "source": [
    "Vamos a usar el dataframe del varGrupo para generar una gráfica, donde el eje x serán los nombres y en el eje Y estarán los promedios"
   ]
  },
  {
   "cell_type": "code",
   "execution_count": 115,
   "metadata": {},
   "outputs": [
    {
     "data": {
      "image/png": "[encoded data removed]",
      "text/plain": [
       "<Figure size 640x480 with 1 Axes>"
      ]
     },
     "metadata": {},
     "output_type": "display_data"
    }
   ],
   "source": [
    "graficarlinea = varGrupo[\"Promedio\"].plot()\n",
    "\n",
    "plt.show()"
   ]
  },
  {
   "cell_type": "markdown",
   "metadata": {},
   "source": [
    "### Grafico de barras"
   ]
  },
  {
   "cell_type": "code",
   "execution_count": 118,
   "metadata": {},
   "outputs": [
    {
     "data": {
      "image/png": "[encoded data removed]",
      "text/plain": [
       "<Figure size 640x480 with 1 Axes>"
      ]
     },
     "metadata": {},
     "output_type": "display_data"
    }
   ],
   "source": [
    "graficarBarra = varGrupo[\"Promedio\"].plot(kind=\"bar\")\n",
    "plt.show()"
   ]
  },
  {
   "cell_type": "markdown",
   "metadata": {},
   "source": [
    "Ahora usaremos el dataframe \"variable\" para asignar un eje X y un eje Y, y luego generar una grafica para ver si hay una relación"
   ]
  },
  {
   "cell_type": "code",
   "execution_count": 119,
   "metadata": {},
   "outputs": [
    {
     "data": {
      "image/png": "[encoded data removed]",
      "text/plain": [
       "<Figure size 640x480 with 1 Axes>"
      ]
     },
     "metadata": {},
     "output_type": "display_data"
    }
   ],
   "source": [
    "#scatter es para grafica de puntos\n",
    "graficaPuntos = variable.plot(kind=\"scatter\", x=\"Matematicas\", y=\"Comunicación\")\n",
    "plt.show()"
   ]
  },
  {
   "cell_type": "markdown",
   "metadata": {},
   "source": [
    "## Guardado de datos"
   ]
  },
  {
   "cell_type": "markdown",
   "metadata": {},
   "source": [
    "Vamos a guardar el dataframe \"varGrupo\", que es el que tiene valores agrupados, en un nuevo archivo Excel"
   ]
  },
  {
   "cell_type": "code",
   "execution_count": 120,
   "metadata": {},
   "outputs": [],
   "source": [
    "varGrupo.to_csv(\"tablaAgrupada.xlsx\")"
   ]
  }
 ],
 "metadata": {
  "kernelspec": {
   "display_name": "Python 3",
   "language": "python",
   "name": "python3"
  },
  "language_info": {
   "codemirror_mode": {
    "name": "ipython",
    "version": 3
   },
   "file_extension": ".py",
   "mimetype": "text/x-python",
   "name": "python",
   "nbconvert_exporter": "python",
   "pygments_lexer": "ipython3",
   "version": "3.12.5"
  }
 },
 "nbformat": 4,
 "nbformat_minor": 2
}
