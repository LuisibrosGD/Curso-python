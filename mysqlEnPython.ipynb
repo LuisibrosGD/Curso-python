{
 "cells": [
  {
   "cell_type": "markdown",
   "metadata": {},
   "source": [
    "# CONECTAR CON MYSQL"
   ]
  },
  {
   "cell_type": "code",
   "execution_count": 5,
   "metadata": {},
   "outputs": [],
   "source": [
    "import mysql.connector"
   ]
  },
  {
   "cell_type": "code",
   "execution_count": 6,
   "metadata": {},
   "outputs": [],
   "source": [
    "personas_db = mysql.connector.connect(\n",
    "    host = 'localhost',\n",
    "    user = 'root',\n",
    "    password = 'F5003F5003',\n",
    "    database = 'personas_db'\n",
    ")"
   ]
  },
  {
   "cell_type": "markdown",
   "metadata": {},
   "source": [
    "## Ejecutar la sentencia select"
   ]
  },
  {
   "cell_type": "code",
   "execution_count": 7,
   "metadata": {},
   "outputs": [
    {
     "name": "stdout",
     "output_type": "stream",
     "text": [
      "(1, 'Luis', 'Bizarro', 20)\n",
      "(3, '', 'Bizarro', 20)\n",
      "(4, 'Luis', 'Bizarro', 20)\n",
      "(5, 'Marta', 'Diaz', 20)\n",
      "(6, 'Juana', 'Vargas', 22)\n",
      "(7, 'Luis', 'Dominguez', 19)\n"
     ]
    }
   ],
   "source": [
    "# crearemos una variable para ejecutar comandos de SQL\n",
    "cursor = personas_db.cursor()\n",
    "\n",
    "cursor.execute('SELECT * FROM personas');\n",
    "resultado = cursor.fetchall() # almacenamos todos los registros en 'resultado'\n",
    "\n",
    "# Con esto iteramos\n",
    "\n",
    "for persona in resultado: # lo que nos devolverá 'persona' es una tupla por cada registro\n",
    "    print(persona)\n",
    "    \n"
   ]
  },
  {
   "cell_type": "markdown",
   "metadata": {},
   "source": [
    "Cerramos los objetos"
   ]
  },
  {
   "cell_type": "code",
   "execution_count": 8,
   "metadata": {},
   "outputs": [],
   "source": [
    "cursor.close()\n",
    "personas_db.close()"
   ]
  },
  {
   "cell_type": "markdown",
   "metadata": {},
   "source": [
    "# INSERTAR UN REGISTRO"
   ]
  },
  {
   "cell_type": "code",
   "execution_count": 9,
   "metadata": {},
   "outputs": [],
   "source": [
    "personas_db = mysql.connector.connect(\n",
    "    host = 'localhost',\n",
    "    user = 'root',\n",
    "    password = 'F5003F5003',\n",
    "    database = 'personas_db'\n",
    ")"
   ]
  },
  {
   "cell_type": "markdown",
   "metadata": {},
   "source": [
    "(%s,%s,%s) será reemplazado por 'valores' y luego se asociará respectivamente con (nombre,apellido,edad)"
   ]
  },
  {
   "cell_type": "code",
   "execution_count": 10,
   "metadata": {},
   "outputs": [
    {
     "name": "stdout",
     "output_type": "stream",
     "text": [
      "Se ha agregado el nuevo registro a la base de datos ('Luis', 'Ugarte', 45)\n"
     ]
    }
   ],
   "source": [
    "cursor = personas_db.cursor()\n",
    "sentencia_sql = 'INSERT INTO personas(nombre, apellido, edad) VALUES (%s,%s,%s)'\n",
    "valores = ('Luis','Ugarte',45)\n",
    "\n",
    "#pasamos los valores\n",
    "cursor.execute(sentencia_sql,valores)\n",
    "\n",
    "personas_db.commit() #Guardamos los cambios en la base de datos \n",
    "\n",
    "print(f'Se ha agregado el nuevo registro a la base de datos {valores}')\n"
   ]
  },
  {
   "cell_type": "markdown",
   "metadata": {},
   "source": [
    "NO OLVIDES CERRAR LOS OBJETOS DE CONEXION PARA QUE NO GENERE ERRORES"
   ]
  },
  {
   "cell_type": "code",
   "execution_count": 11,
   "metadata": {},
   "outputs": [],
   "source": [
    "cursor.close()\n",
    "personas_db.close()"
   ]
  },
  {
   "cell_type": "markdown",
   "metadata": {},
   "source": [
    "# ACTUALIZAR REGISTRO (UPDATE)"
   ]
  },
  {
   "cell_type": "code",
   "execution_count": 12,
   "metadata": {},
   "outputs": [],
   "source": [
    "personas_db = mysql.connector.connect(\n",
    "    host = 'localhost',\n",
    "    user = 'root',\n",
    "    password = 'F5003F5003',\n",
    "    database = 'personas_db'\n",
    ")"
   ]
  },
  {
   "cell_type": "code",
   "execution_count": 13,
   "metadata": {},
   "outputs": [],
   "source": [
    "cursor = personas_db.cursor()"
   ]
  },
  {
   "cell_type": "code",
   "execution_count": 14,
   "metadata": {},
   "outputs": [
    {
     "name": "stdout",
     "output_type": "stream",
     "text": [
      "Se ha modificado la informacion\n"
     ]
    }
   ],
   "source": [
    "sentencia_sql = 'UPDATE personas SET nombre = %s, apellido = %s, edad = %s WHERE id = %s'\n",
    "valores = ('Victoria', 'Flores', 55, 8)\n",
    "\n",
    "cursor.execute(sentencia_sql,valores)\n",
    "personas_db.commit()\n",
    "\n",
    "print('Se ha modificado la informacion')"
   ]
  },
  {
   "cell_type": "code",
   "execution_count": 15,
   "metadata": {},
   "outputs": [],
   "source": [
    "cursor.close()\n",
    "personas_db.close()"
   ]
  },
  {
   "cell_type": "markdown",
   "metadata": {},
   "source": [
    "# ELIMINAR UN REGISTRO (DELETE)"
   ]
  },
  {
   "cell_type": "code",
   "execution_count": 16,
   "metadata": {},
   "outputs": [],
   "source": [
    "personas_db = mysql.connector.connect(\n",
    "    host = 'localhost',\n",
    "    user = 'root',\n",
    "    password = 'F5003F5003',\n",
    "    database = 'personas_db'\n",
    ")"
   ]
  },
  {
   "cell_type": "code",
   "execution_count": 17,
   "metadata": {},
   "outputs": [],
   "source": [
    "cursor = personas_db.cursor()"
   ]
  },
  {
   "cell_type": "markdown",
   "metadata": {},
   "source": [
    "Ejecutar sentencia delete"
   ]
  },
  {
   "cell_type": "code",
   "execution_count": 19,
   "metadata": {},
   "outputs": [
    {
     "name": "stdout",
     "output_type": "stream",
     "text": [
      "SE HA ELIMINADO EL REGISRO\n"
     ]
    }
   ],
   "source": [
    "sentencia_sql = 'DELETE from personas WHERE id = %s'\n",
    "valores=(5,) # Como hay un solo elemento, no se considera tupla asi que debemos colocarle la coma al final para que funcione\n",
    "\n",
    "cursor.execute(sentencia_sql,valores)\n",
    "personas_db.commit()\n",
    "\n",
    "print('SE HA ELIMINADO EL REGISRO')"
   ]
  },
  {
   "cell_type": "code",
   "execution_count": 20,
   "metadata": {},
   "outputs": [],
   "source": [
    "cursor.close()\n",
    "personas_db.close()"
   ]
  }
 ],
 "metadata": {
  "kernelspec": {
   "display_name": "Python 3",
   "language": "python",
   "name": "python3"
  },
  "language_info": {
   "codemirror_mode": {
    "name": "ipython",
    "version": 3
   },
   "file_extension": ".py",
   "mimetype": "text/x-python",
   "name": "python",
   "nbconvert_exporter": "python",
   "pygments_lexer": "ipython3",
   "version": "3.12.5"
  }
 },
 "nbformat": 4,
 "nbformat_minor": 2
}
